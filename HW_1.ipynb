{
  "nbformat": 4,
  "nbformat_minor": 0,
  "metadata": {
    "colab": {
      "provenance": [],
      "authorship_tag": "ABX9TyNM6qc7syUufCcYoGQ4vzCV",
      "include_colab_link": true
    },
    "kernelspec": {
      "name": "python3",
      "display_name": "Python 3"
    },
    "language_info": {
      "name": "python"
    }
  },
  "cells": [
    {
      "cell_type": "markdown",
      "metadata": {
        "id": "view-in-github",
        "colab_type": "text"
      },
      "source": [
        "<a href=\"https://colab.research.google.com/github/samiagoda/masar/blob/main/HW_1.ipynb\" target=\"_parent\"><img src=\"https://colab.research.google.com/assets/colab-badge.svg\" alt=\"Open In Colab\"/></a>"
      ]
    },
    {
      "cell_type": "code",
      "source": [
        "# h.w1\n",
        "\n",
        "name = 'samia'\n",
        "\n",
        "age = 35\n",
        "\n",
        "print('My name is ' + name)"
      ],
      "metadata": {
        "colab": {
          "base_uri": "https://localhost:8080/"
        },
        "id": "9qx4yno3OFqH",
        "outputId": "9087c51f-ad08-480f-fd33-be275b844134"
      },
      "execution_count": null,
      "outputs": [
        {
          "output_type": "stream",
          "name": "stdout",
          "text": [
            "My name is samia\n"
          ]
        }
      ]
    },
    {
      "cell_type": "code",
      "source": [
        "# h.w1\n",
        "\n",
        "name = 'samia'\n",
        "\n",
        "age = '35'\n",
        "age_str = str(age)\n",
        "\n",
        "print('My name is ' + name + ' مرحبا بالحميع' )"
      ],
      "metadata": {
        "colab": {
          "base_uri": "https://localhost:8080/"
        },
        "outputId": "6fd79ca4-badb-4025-b85f-6c5ee880c4a4",
        "id": "WPzrfxK6Tbjn"
      },
      "execution_count": null,
      "outputs": [
        {
          "output_type": "stream",
          "name": "stdout",
          "text": [
            "My name is samia مرحبا بالحميع\n"
          ]
        }
      ]
    },
    {
      "cell_type": "code",
      "source": [
        "# h.w1\n",
        "\n",
        "name = 'samia'\n",
        "\n",
        "age = '35'\n",
        "\n",
        "print('My age is ' + age)"
      ],
      "metadata": {
        "colab": {
          "base_uri": "https://localhost:8080/"
        },
        "outputId": "45c683cf-ae1d-4bc3-9b6e-9d02c94f0982",
        "id": "8rC--mG4Sf6p"
      },
      "execution_count": null,
      "outputs": [
        {
          "output_type": "stream",
          "name": "stdout",
          "text": [
            "My age is 35\n"
          ]
        }
      ]
    },
    {
      "cell_type": "code",
      "source": [
        "# h.w1\n",
        "\n",
        "name = 'samia'\n",
        "\n",
        "age = '35'\n",
        "age_str = str(age)\n",
        "\n",
        "print('My age is ' + age_str  + ' مرحبا بالحميع أنا أسمي سامية' )\n"
      ],
      "metadata": {
        "colab": {
          "base_uri": "https://localhost:8080/"
        },
        "outputId": "b3f001cc-df4e-404b-c8a1-f992bff7db2c",
        "id": "kbsJIWtrSxjl"
      },
      "execution_count": null,
      "outputs": [
        {
          "output_type": "stream",
          "name": "stdout",
          "text": [
            "My age is 35 مرحبا بالحميع أنا أسمي سامية\n"
          ]
        }
      ]
    }
  ]
}