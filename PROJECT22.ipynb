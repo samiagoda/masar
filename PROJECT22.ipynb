{
  "nbformat": 4,
  "nbformat_minor": 0,
  "metadata": {
    "colab": {
      "provenance": [],
      "authorship_tag": "ABX9TyM3wAlI55dP7J3Dl5nEEFgg",
      "include_colab_link": true
    },
    "kernelspec": {
      "name": "python3",
      "display_name": "Python 3"
    },
    "language_info": {
      "name": "python"
    }
  },
  "cells": [
    {
      "cell_type": "markdown",
      "metadata": {
        "id": "view-in-github",
        "colab_type": "text"
      },
      "source": [
        "<a href=\"https://colab.research.google.com/github/samiagoda/masar/blob/main/PROJECT22.ipynb\" target=\"_parent\"><img src=\"https://colab.research.google.com/assets/colab-badge.svg\" alt=\"Open In Colab\"/></a>"
      ]
    },
    {
      "cell_type": "code",
      "execution_count": null,
      "metadata": {
        "id": "AdxRsXK1sh1R"
      },
      "outputs": [],
      "source": [
        "nums = [229, 792, 857, 579, 974, 346, 649, 454, 698, 347, 236, 297, 150, 698, 294, 663, 556, 712, 271, 283, 705, 347, 725, 716, 486, 642, 644, 728, 409, 208, 421, 799, 52, 796, 441, 374, 60, 948, 143, 698, 934, 561, 917, 678, 666, 476, 23, 743, 836, 655, 971, 372, 215, 567, 462, 127, 208, 683, 618, 96, 329, 92, 934, 992, 120, 944, 605, 78, 87, 216, 62, 919, 462, 597, 671, 493, 540, 451, 885, 375, 606, 90, 607, 443, 240, 708, 674, 111, 165, 858, 799, 39, 383, 602, 695, 689, 726, 344, 2, 335]"
      ]
    }
  ]
}