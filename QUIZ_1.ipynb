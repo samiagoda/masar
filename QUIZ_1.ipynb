{
  "nbformat": 4,
  "nbformat_minor": 0,
  "metadata": {
    "colab": {
      "provenance": [],
      "authorship_tag": "ABX9TyOaVNq2RGsftZrGfPstqYYm",
      "include_colab_link": true
    },
    "kernelspec": {
      "name": "python3",
      "display_name": "Python 3"
    },
    "language_info": {
      "name": "python"
    }
  },
  "cells": [
    {
      "cell_type": "markdown",
      "metadata": {
        "id": "view-in-github",
        "colab_type": "text"
      },
      "source": [
        "<a href=\"https://colab.research.google.com/github/samiagoda/masar/blob/main/QUIZ_1.ipynb\" target=\"_parent\"><img src=\"https://colab.research.google.com/assets/colab-badge.svg\" alt=\"Open In Colab\"/></a>"
      ]
    },
    {
      "cell_type": "code",
      "execution_count": 1,
      "metadata": {
        "id": "PGz6IU9dpI1j"
      },
      "outputs": [],
      "source": [
        "List = [1,2,3,4,5]\n",
        "\n",
        "def add_list(list_var):\n",
        "    total = 0\n",
        "    for i in list_var:\n",
        "        total += i\n",
        "    print(\"The result is : \" + str(total))"
      ]
    }
  ]
}